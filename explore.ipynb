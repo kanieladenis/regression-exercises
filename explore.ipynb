{
 "cells": [
  {
   "cell_type": "markdown",
   "id": "08b73da3",
   "metadata": {},
   "source": [
    "# Exploration Exercises"
   ]
  },
  {
   "cell_type": "markdown",
   "id": "22dd9393",
   "metadata": {},
   "source": [
    "### Who has spent the most money in their lifetime? Within an average of 5 dollars per customer."
   ]
  },
  {
   "cell_type": "markdown",
   "id": "1cc76e0c",
   "metadata": {},
   "source": [
    "1. Make sure to perform a train, validate, test split before and use only your train dataset to explore the relationships between independent variables with other independent variables or independent variables with your target variable."
   ]
  },
  {
   "cell_type": "code",
   "execution_count": null,
   "id": "616efbaf",
   "metadata": {},
   "outputs": [],
   "source": [
    "import pandas as pd\n",
    "import numpy as np\n",
    "import matplotlib.pyplot as plt\n",
    "import seaborn as sns\n",
    "\n",
    "from sklearn.model_selection import train_test_split\n",
    "from scipy.stats import pearsonr, spearmanr\n",
    "\n",
    "import explore\n",
    "import wrangle_zillow\n",
    "\n",
    "import warnings\n",
    "warnings.filterwarnings(\"ignore\")"
   ]
  },
  {
   "cell_type": "code",
   "execution_count": null,
   "id": "07f0a2cf",
   "metadata": {},
   "outputs": [],
   "source": [
    "raw = explore.get_telco()\n",
    "df = raw.copy()"
   ]
  },
  {
   "cell_type": "code",
   "execution_count": null,
   "id": "395fc99e",
   "metadata": {},
   "outputs": [],
   "source": [
    "df = explore.clean_telco(df)"
   ]
  },
  {
   "cell_type": "code",
   "execution_count": null,
   "id": "6f77dbf6",
   "metadata": {},
   "outputs": [],
   "source": [
    "train_validate, test = train_test_split(df,\n",
    "                                        test_size=.2, \n",
    "                                             random_state=123, \n",
    "                                             stratify=df.churn)\n",
    "\n",
    "train, validate = train_test_split(train_validate,\n",
    "                                      test_size=.3,\n",
    "                                      random_state=123,\n",
    "                                      stratify=train_validate.churn)\n",
    "\n",
    "train.shape, validate.shape, test.shape"
   ]
  },
  {
   "cell_type": "code",
   "execution_count": null,
   "id": "2c2e471b",
   "metadata": {},
   "outputs": [],
   "source": []
  },
  {
   "cell_type": "code",
   "execution_count": null,
   "id": "3df6d8f7",
   "metadata": {},
   "outputs": [],
   "source": []
  },
  {
   "cell_type": "code",
   "execution_count": null,
   "id": "13033d49",
   "metadata": {},
   "outputs": [],
   "source": []
  },
  {
   "cell_type": "markdown",
   "id": "ab548386",
   "metadata": {},
   "source": [
    "2. Write a function named plot_variable_pairs that accepts a dataframe as input and plots all of the pairwise relationships along with the regression line for each pair."
   ]
  },
  {
   "cell_type": "code",
   "execution_count": null,
   "id": "d0bf6cde",
   "metadata": {},
   "outputs": [],
   "source": []
  },
  {
   "cell_type": "markdown",
   "id": "4bda1e50",
   "metadata": {},
   "source": [
    "3. Write a function named months_to_years that accepts your telco churn dataframe and returns a dataframe with a new feature tenure_years, in complete years as a customer."
   ]
  },
  {
   "cell_type": "markdown",
   "id": "9974d4cd",
   "metadata": {},
   "source": [
    "4. Write a function named plot_categorical_and_continuous_vars that accepts your dataframe and the name of the columns that hold the continuous and categorical features and outputs 3 different plots for visualizing a categorical variable and a continuous variable."
   ]
  },
  {
   "cell_type": "markdown",
   "id": "cc9fc21f",
   "metadata": {},
   "source": [
    "5. Save the functions you have written to create visualizations in your explore.py file. Rewrite your notebook code so that you are using the functions imported from this file."
   ]
  },
  {
   "cell_type": "markdown",
   "id": "32421876",
   "metadata": {},
   "source": [
    "6. Explore your dataset with any other visualizations you think will be helpful."
   ]
  },
  {
   "cell_type": "markdown",
   "id": "7eb0cca7",
   "metadata": {},
   "source": [
    "7. In a seperate notebook, use the functions you have developed in this exercise with the mall_customers dataset in the Codeup database server. You will need to write a sql query to acquire your data. Make spending_score your target variable."
   ]
  },
  {
   "cell_type": "markdown",
   "id": "ef0c5a29",
   "metadata": {},
   "source": [
    "# Exercises II - Challenge for Zillow\n",
    "- Your goal is to predict the values of single unit properties using the observations from 2017."
   ]
  },
  {
   "cell_type": "markdown",
   "id": "78176145",
   "metadata": {},
   "source": [
    "1. Use the functions you created above to explore your Zillow train dataset in your explore.ipynb notebook"
   ]
  },
  {
   "cell_type": "code",
   "execution_count": null,
   "id": "bbd41264",
   "metadata": {},
   "outputs": [],
   "source": [
    "train, validate, test= wrangle_zillow.wrangle_zillow()"
   ]
  },
  {
   "cell_type": "code",
   "execution_count": null,
   "id": "8fb41bbc",
   "metadata": {},
   "outputs": [],
   "source": [
    "train.describe().apply(lambda s: s.apply(lambda x: format(x, 'g')))"
   ]
  },
  {
   "cell_type": "code",
   "execution_count": null,
   "id": "258e20ec",
   "metadata": {
    "scrolled": true
   },
   "outputs": [],
   "source": [
    "sns.pairplot(train)"
   ]
  },
  {
   "cell_type": "code",
   "execution_count": null,
   "id": "f818cc09",
   "metadata": {},
   "outputs": [],
   "source": [
    "sns.relplot(x='year_built', y='area', data=train,  hue='tax_value', kind='scatter')"
   ]
  },
  {
   "cell_type": "code",
   "execution_count": null,
   "id": "a7e16dd6",
   "metadata": {},
   "outputs": [],
   "source": [
    "sns.lmplot(x='year_built', y='area', data=train, scatter=True, hue=None, col=None)"
   ]
  },
  {
   "cell_type": "code",
   "execution_count": null,
   "id": "dc814662",
   "metadata": {},
   "outputs": [],
   "source": [
    "sns.jointplot(x='year_built', y='area', data=train, kind='scatter', hue='tax_value')"
   ]
  },
  {
   "cell_type": "code",
   "execution_count": null,
   "id": "7d15ce78",
   "metadata": {},
   "outputs": [],
   "source": [
    "cols = train.drop(columns=['fips', 'tax_amount']).corr()"
   ]
  },
  {
   "cell_type": "code",
   "execution_count": null,
   "id": "4253c8ba",
   "metadata": {},
   "outputs": [],
   "source": [
    "plt.figure(figsize=(8,6))\n",
    "sns.heatmap(cols, cmap='Purples', annot=True, linewidth=0.5)\n",
    "plt.ylim(0, 5)\n",
    "plt.show()"
   ]
  },
  {
   "cell_type": "code",
   "execution_count": null,
   "id": "cd3c1b38",
   "metadata": {},
   "outputs": [],
   "source": [
    "sns.swarmplot(x='bathrooms', y='area', data=train, hue='tax_value')\n"
   ]
  },
  {
   "cell_type": "code",
   "execution_count": null,
   "id": "9a6b722a",
   "metadata": {},
   "outputs": [],
   "source": [
    "sns.stripplot(x='bathrooms', y='area', data=train, hue='tax_value')"
   ]
  },
  {
   "cell_type": "code",
   "execution_count": null,
   "id": "69e97d3c",
   "metadata": {},
   "outputs": [],
   "source": []
  },
  {
   "cell_type": "code",
   "execution_count": null,
   "id": "9ea0f1c6",
   "metadata": {},
   "outputs": [],
   "source": []
  },
  {
   "cell_type": "code",
   "execution_count": null,
   "id": "78914e7c",
   "metadata": {},
   "outputs": [],
   "source": []
  },
  {
   "cell_type": "markdown",
   "id": "045095b1",
   "metadata": {},
   "source": [
    "2. Come up with some initial hypotheses based on your goal of predicting property value."
   ]
  },
  {
   "cell_type": "code",
   "execution_count": null,
   "id": "f8388ef2",
   "metadata": {},
   "outputs": [],
   "source": []
  },
  {
   "cell_type": "markdown",
   "id": "a089bc22",
   "metadata": {},
   "source": [
    "3. Visualize all combinations of variables in some way"
   ]
  },
  {
   "cell_type": "code",
   "execution_count": null,
   "id": "46e1e930",
   "metadata": {},
   "outputs": [],
   "source": []
  },
  {
   "cell_type": "markdown",
   "id": "ddd54abf",
   "metadata": {},
   "source": [
    "4. Run the appropriate statistical tests where needed."
   ]
  },
  {
   "cell_type": "code",
   "execution_count": null,
   "id": "95ab0acb",
   "metadata": {},
   "outputs": [],
   "source": []
  },
  {
   "cell_type": "markdown",
   "id": "85886926",
   "metadata": {},
   "source": [
    "5. What independent variables are correlated with the dependent variable, home value?"
   ]
  },
  {
   "cell_type": "markdown",
   "id": "769add8d",
   "metadata": {},
   "source": [
    "area has highest correlation to tax value"
   ]
  },
  {
   "cell_type": "markdown",
   "id": "9b281f80",
   "metadata": {},
   "source": [
    "6. Which independent variables are correlated with other independent variables (bedrooms, bathrooms, year built, square feet)?"
   ]
  },
  {
   "cell_type": "markdown",
   "id": "778f95ac",
   "metadata": {},
   "source": [
    "area and bathroom, "
   ]
  },
  {
   "cell_type": "markdown",
   "id": "00adbc96",
   "metadata": {},
   "source": [
    "7. Make sure to document your takeaways from visualizations and statistical tests as well as the decisions you make throughout your process."
   ]
  }
 ],
 "metadata": {
  "kernelspec": {
   "display_name": "Python 3",
   "language": "python",
   "name": "python3"
  },
  "language_info": {
   "codemirror_mode": {
    "name": "ipython",
    "version": 3
   },
   "file_extension": ".py",
   "mimetype": "text/x-python",
   "name": "python",
   "nbconvert_exporter": "python",
   "pygments_lexer": "ipython3",
   "version": "3.8.8"
  }
 },
 "nbformat": 4,
 "nbformat_minor": 5
}
