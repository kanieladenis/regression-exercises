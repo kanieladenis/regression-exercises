{
 "cells": [
  {
   "cell_type": "markdown",
   "id": "08b73da3",
   "metadata": {},
   "source": [
    "# Exploration Exercises"
   ]
  },
  {
   "cell_type": "markdown",
   "id": "22dd9393",
   "metadata": {},
   "source": [
    "### Who has spent the most money in their lifetime? Within an average of 5 dollars per customer."
   ]
  },
  {
   "cell_type": "markdown",
   "id": "1cc76e0c",
   "metadata": {},
   "source": [
    "1. Make sure to perform a train, validate, test split before and use only your train dataset to explore the relationships between independent variables with other independent variables or independent variables with your target variable."
   ]
  },
  {
   "cell_type": "code",
   "execution_count": 4,
   "id": "616efbaf",
   "metadata": {},
   "outputs": [],
   "source": [
    "import pandas as pd\n",
    "import numpy as np\n",
    "import matplotlib.pyplot as plt\n",
    "import seaborn as sns\n",
    "\n",
    "from sklearn.model_selection import train_test_split\n",
    "from scipy.stats import pearsonr, spearmanr\n",
    "\n",
    "import explore\n",
    "import wrangle_zillow\n",
    "\n",
    "import warnings\n",
    "warnings.filterwarnings(\"ignore\")"
   ]
  },
  {
   "cell_type": "code",
   "execution_count": null,
   "id": "07f0a2cf",
   "metadata": {},
   "outputs": [],
   "source": [
    "raw = explore.get_telco()\n",
    "df = raw.copy()"
   ]
  },
  {
   "cell_type": "code",
   "execution_count": null,
   "id": "395fc99e",
   "metadata": {},
   "outputs": [],
   "source": [
    "df = explore.clean_telco(df)"
   ]
  },
  {
   "cell_type": "code",
   "execution_count": null,
   "id": "6f77dbf6",
   "metadata": {},
   "outputs": [],
   "source": [
    "train_validate, test = train_test_split(df,\n",
    "                                        test_size=.2, \n",
    "                                             random_state=123, \n",
    "                                             stratify=df.churn)\n",
    "\n",
    "train, validate = train_test_split(train_validate,\n",
    "                                      test_size=.3,\n",
    "                                      random_state=123,\n",
    "                                      stratify=train_validate.churn)\n",
    "\n",
    "train.shape, validate.shape, test.shape"
   ]
  },
  {
   "cell_type": "code",
   "execution_count": null,
   "id": "2c2e471b",
   "metadata": {},
   "outputs": [],
   "source": []
  },
  {
   "cell_type": "code",
   "execution_count": null,
   "id": "3df6d8f7",
   "metadata": {},
   "outputs": [],
   "source": []
  },
  {
   "cell_type": "code",
   "execution_count": null,
   "id": "13033d49",
   "metadata": {},
   "outputs": [],
   "source": []
  },
  {
   "cell_type": "markdown",
   "id": "ab548386",
   "metadata": {},
   "source": [
    "2. Write a function named plot_variable_pairs that accepts a dataframe as input and plots all of the pairwise relationships along with the regression line for each pair."
   ]
  },
  {
   "cell_type": "code",
   "execution_count": null,
   "id": "d0bf6cde",
   "metadata": {},
   "outputs": [],
   "source": []
  },
  {
   "cell_type": "markdown",
   "id": "4bda1e50",
   "metadata": {},
   "source": [
    "3. Write a function named months_to_years that accepts your telco churn dataframe and returns a dataframe with a new feature tenure_years, in complete years as a customer."
   ]
  },
  {
   "cell_type": "markdown",
   "id": "9974d4cd",
   "metadata": {},
   "source": [
    "4. Write a function named plot_categorical_and_continuous_vars that accepts your dataframe and the name of the columns that hold the continuous and categorical features and outputs 3 different plots for visualizing a categorical variable and a continuous variable."
   ]
  },
  {
   "cell_type": "markdown",
   "id": "cc9fc21f",
   "metadata": {},
   "source": [
    "5. Save the functions you have written to create visualizations in your explore.py file. Rewrite your notebook code so that you are using the functions imported from this file."
   ]
  },
  {
   "cell_type": "markdown",
   "id": "32421876",
   "metadata": {},
   "source": [
    "6. Explore your dataset with any other visualizations you think will be helpful."
   ]
  },
  {
   "cell_type": "markdown",
   "id": "7eb0cca7",
   "metadata": {},
   "source": [
    "7. In a seperate notebook, use the functions you have developed in this exercise with the mall_customers dataset in the Codeup database server. You will need to write a sql query to acquire your data. Make spending_score your target variable."
   ]
  },
  {
   "cell_type": "markdown",
   "id": "ef0c5a29",
   "metadata": {},
   "source": [
    "# Exercises II - Challenge for Zillow\n",
    "- Your goal is to predict the values of single unit properties using the observations from 2017."
   ]
  },
  {
   "cell_type": "markdown",
   "id": "78176145",
   "metadata": {},
   "source": [
    "1. Use the functions you created above to explore your Zillow train dataset in your explore.ipynb notebook"
   ]
  },
  {
   "cell_type": "code",
   "execution_count": null,
   "id": "bbd41264",
   "metadata": {},
   "outputs": [],
   "source": [
    "train, validate, test= wrangle_zillow.wrangle_zillow()"
   ]
  },
  {
   "cell_type": "code",
   "execution_count": null,
   "id": "8fb41bbc",
   "metadata": {},
   "outputs": [],
   "source": [
    "train.describe().apply(lambda s: s.apply(lambda x: format(x, 'g')))"
   ]
  },
  {
   "cell_type": "code",
   "execution_count": null,
   "id": "356b46ee",
   "metadata": {},
   "outputs": [],
   "source": [
    "cols = train.drop(columns=['tax_value','tax_amount','area'])\n",
    "for col in cols:\n",
    "    print(train[col].value_counts())\n",
    "# 3 fips, majority is 6037, "
   ]
  },
  {
   "cell_type": "code",
   "execution_count": null,
   "id": "258e20ec",
   "metadata": {
    "scrolled": true
   },
   "outputs": [],
   "source": [
    "# Takes a long time.\n",
    "sns.pairplot(train)"
   ]
  },
  {
   "cell_type": "code",
   "execution_count": null,
   "id": "a7e16dd6",
   "metadata": {},
   "outputs": [],
   "source": [
    "sns.lmplot(x='year_built', y='area', data=train, scatter=True, hue=None, col=None)"
   ]
  },
  {
   "cell_type": "code",
   "execution_count": null,
   "id": "dc814662",
   "metadata": {},
   "outputs": [],
   "source": [
    "sns.jointplot(x='year_built', y='area', data=train, kind='scatter', hue='tax_value')"
   ]
  },
  {
   "cell_type": "code",
   "execution_count": null,
   "id": "7d15ce78",
   "metadata": {},
   "outputs": [],
   "source": [
    "cols = train.drop(columns=['fips']).corr()"
   ]
  },
  {
   "cell_type": "code",
   "execution_count": null,
   "id": "4253c8ba",
   "metadata": {},
   "outputs": [],
   "source": [
    "plt.figure(figsize=(10,8))\n",
    "sns.heatmap(cols, cmap='Purples', annot=True, linewidth=0.5, mask= np.triu(cols))\n",
    "plt.ylim(0, 6)\n",
    "plt.show()"
   ]
  },
  {
   "cell_type": "code",
   "execution_count": null,
   "id": "1afdd3f3",
   "metadata": {},
   "outputs": [],
   "source": [
    "# .25 correlation between tax_value and year_built. Shows that value increases with area & year_built\n",
    "plt.figure(figsize=(10,10))\n",
    "sns.relplot(x='year_built', y='area', data=train,  hue='tax_value', kind='scatter')"
   ]
  },
  {
   "cell_type": "code",
   "execution_count": null,
   "id": "23320cc5",
   "metadata": {},
   "outputs": [],
   "source": [
    "#shows that increasd area tends to have increases bathrooms. Slight correlation to increased value.\n",
    "plt.figure(figsize=(10,10))\n",
    "sns.relplot(x='area', y='tax_value', data=train, hue='bathrooms', kind='scatter')"
   ]
  },
  {
   "cell_type": "code",
   "execution_count": null,
   "id": "d147bfb3",
   "metadata": {},
   "outputs": [],
   "source": [
    "# Shows that bedrooms does not associate to value. Mostly to area.\n",
    "plt.figure(figsize=(10,10))\n",
    "sns.relplot(x='area', y='tax_value', data=train, hue='bedrooms', kind='scatter')"
   ]
  },
  {
   "cell_type": "code",
   "execution_count": null,
   "id": "71a150d5",
   "metadata": {},
   "outputs": [],
   "source": [
    "plt.figure(figsize=(10,10))\n",
    "sns.relplot(x='year_built', y='tax_value', data=train, hue='bathrooms', kind='scatter')"
   ]
  },
  {
   "cell_type": "code",
   "execution_count": null,
   "id": "f8b8ae21",
   "metadata": {},
   "outputs": [],
   "source": [
    "# Shows that later years have more bedrooms but seem to impact value\n",
    "plt.figure(figsize=(10,20))\n",
    "sns.relplot(x='year_built', y='tax_value', data=train, hue='bedrooms', kind='scatter')\n",
    "plt.show()"
   ]
  },
  {
   "cell_type": "code",
   "execution_count": null,
   "id": "c6665605",
   "metadata": {},
   "outputs": [],
   "source": [
    "# Shows increased area has  year increased and more high areas have high value\n",
    "plt.figure(figsize=(10,20))\n",
    "sns.relplot(x='year_built', y='tax_value', data=train, hue='area', kind='scatter')\n",
    "plt.show()"
   ]
  },
  {
   "cell_type": "code",
   "execution_count": null,
   "id": "ed4f6e50",
   "metadata": {},
   "outputs": [],
   "source": [
    "# shows that 6037 has majority of properties, 6059 has more high value properties\n",
    "plt.figure(figsize=(15,5))\n",
    "sns.relplot(x='year_built', y='tax_value', data=train, hue='fips', kind='scatter')\n",
    "plt.show()"
   ]
  },
  {
   "cell_type": "code",
   "execution_count": null,
   "id": "ae06b4f1",
   "metadata": {},
   "outputs": [],
   "source": [
    "# shows \n",
    "plt.figure(figsize=(15,5))\n",
    "sns.barplot(data=train, y='area', x= hue='target_value', col='fips')\n",
    "plt.show()"
   ]
  },
  {
   "cell_type": "code",
   "execution_count": null,
   "id": "b65877ef",
   "metadata": {},
   "outputs": [],
   "source": [
    "# shows \n",
    "plt.figure(figsize=(15,5))\n",
    "sns.boxplot(data=train, y='tax_value', x='fips')\n",
    "plt.show()"
   ]
  },
  {
   "cell_type": "code",
   "execution_count": null,
   "id": "c63f21aa",
   "metadata": {},
   "outputs": [],
   "source": [
    "# shows \n",
    "plt.figure(figsize=(15,5))\n",
    "sns.barplot(data=train, y='tax_value', x='area', hue='fips')\n",
    "plt.show()"
   ]
  },
  {
   "cell_type": "code",
   "execution_count": null,
   "id": "628fa750",
   "metadata": {},
   "outputs": [],
   "source": [
    "# shows \n",
    "plt.figure(figsize=(15,5))\n",
    "sns.barplot(data=train, y='tax_value', x='fips')\n",
    "plt.show()"
   ]
  },
  {
   "cell_type": "code",
   "execution_count": null,
   "id": "3d86e0b5",
   "metadata": {
    "scrolled": false
   },
   "outputs": [],
   "source": [
    "# shows that bathrooms have a slight correlation to value\n",
    "plt.figure(figsize=(15,5))\n",
    "sns.boxplot(data=train, y='tax_value', x='bathrooms')\n",
    "plt.show()"
   ]
  },
  {
   "cell_type": "code",
   "execution_count": null,
   "id": "981ec705",
   "metadata": {},
   "outputs": [],
   "source": [
    "# shows that bedrooms have a slight correlation to value\n",
    "plt.figure(figsize=(15,5))\n",
    "sns.boxplot(data=train, y='tax_value', x='bedrooms')\n",
    "plt.show()"
   ]
  },
  {
   "cell_type": "code",
   "execution_count": null,
   "id": "cd3c1b38",
   "metadata": {},
   "outputs": [],
   "source": [
    "# Takes too long to show.\n",
    "sns.swarmplot(x='bathrooms', y='area', data=train, hue='tax_value)"
   ]
  },
  {
   "cell_type": "code",
   "execution_count": null,
   "id": "9a6b722a",
   "metadata": {},
   "outputs": [],
   "source": [
    "sns.stripplot(x='bathrooms', y='area', data=train, hue='tax_value')"
   ]
  },
  {
   "cell_type": "markdown",
   "id": "045095b1",
   "metadata": {},
   "source": [
    "2. Come up with some initial hypotheses based on your goal of predicting property value."
   ]
  },
  {
   "cell_type": "markdown",
   "id": "ba961344",
   "metadata": {},
   "source": [
    "H0 = propety value is does not increase with area\n",
    "Ha = property value increases with area "
   ]
  },
  {
   "cell_type": "markdown",
   "id": "a089bc22",
   "metadata": {},
   "source": [
    "3. Visualize all combinations of variables in some way"
   ]
  },
  {
   "cell_type": "markdown",
   "id": "a20e58a3",
   "metadata": {},
   "source": [
    "above"
   ]
  },
  {
   "cell_type": "markdown",
   "id": "ddd54abf",
   "metadata": {},
   "source": [
    "4. Run the appropriate statistical tests where needed."
   ]
  },
  {
   "cell_type": "code",
   "execution_count": null,
   "id": "95ab0acb",
   "metadata": {},
   "outputs": [],
   "source": [
    "# shows that there is a correlation between area and value\n",
    "r, p_value = spearmanr(train.area, train.tax_value)\n",
    "print(f'Correlation Coefficient: {r}\\nP-value: {p_value}')"
   ]
  },
  {
   "cell_type": "markdown",
   "id": "85886926",
   "metadata": {},
   "source": [
    "5. What independent variables are correlated with the dependent variable, home value?\n",
    "- area has highest correlation to tax value, then bathrooms, followed by year_built, then bedrooms"
   ]
  },
  {
   "cell_type": "markdown",
   "id": "9b281f80",
   "metadata": {},
   "source": [
    "6. Which independent variables are correlated with other independent variables (bedrooms, bathrooms, year built, square feet)?"
   ]
  },
  {
   "cell_type": "markdown",
   "id": "778f95ac",
   "metadata": {},
   "source": [
    "area and bathroom, "
   ]
  },
  {
   "cell_type": "markdown",
   "id": "00adbc96",
   "metadata": {},
   "source": [
    "7. Make sure to document your takeaways from visualizations and statistical tests as well as the decisions you make throughout your process."
   ]
  },
  {
   "cell_type": "markdown",
   "id": "06d22982",
   "metadata": {},
   "source": [
    "More Questions:\n",
    "- Do bathrooms weigh more than bedrooms?\n",
    "- Does year_built weigh more than area?\n",
    "- "
   ]
  },
  {
   "cell_type": "code",
   "execution_count": 2,
   "id": "fef88000",
   "metadata": {},
   "outputs": [],
   "source": [
    "# function based on joshua wheeler\n",
    "continuous = ['area','year_built','tax_value']\n",
    "categorical =['bedrooms','bathrooms']"
   ]
  },
  {
   "cell_type": "code",
   "execution_count": 5,
   "id": "6c008b1d",
   "metadata": {},
   "outputs": [
    {
     "ename": "AttributeError",
     "evalue": "module 'matplotlib.pyplot' has no attribute 'barplot'",
     "output_type": "error",
     "traceback": [
      "\u001b[0;31m---------------------------------------------------------------------------\u001b[0m",
      "\u001b[0;31mAttributeError\u001b[0m                            Traceback (most recent call last)",
      "\u001b[0;32m<ipython-input-5-b0c1d3f7c36c>\u001b[0m in \u001b[0;36m<module>\u001b[0;34m\u001b[0m\n\u001b[1;32m      2\u001b[0m     \u001b[0;32mfor\u001b[0m \u001b[0mcat\u001b[0m \u001b[0;32min\u001b[0m \u001b[0mcategorical\u001b[0m\u001b[0;34m:\u001b[0m\u001b[0;34m\u001b[0m\u001b[0;34m\u001b[0m\u001b[0m\n\u001b[1;32m      3\u001b[0m         \u001b[0mplt\u001b[0m\u001b[0;34m.\u001b[0m\u001b[0mfigure\u001b[0m\u001b[0;34m(\u001b[0m\u001b[0mfigsize\u001b[0m\u001b[0;34m=\u001b[0m\u001b[0;34m(\u001b[0m\u001b[0;36m20\u001b[0m\u001b[0;34m,\u001b[0m\u001b[0;36m10\u001b[0m\u001b[0;34m)\u001b[0m\u001b[0;34m)\u001b[0m\u001b[0;34m\u001b[0m\u001b[0;34m\u001b[0m\u001b[0m\n\u001b[0;32m----> 4\u001b[0;31m         \u001b[0mplt\u001b[0m\u001b[0;34m.\u001b[0m\u001b[0mbarplot\u001b[0m\u001b[0;34m(\u001b[0m\u001b[0mx\u001b[0m\u001b[0;34m=\u001b[0m\u001b[0mtrain\u001b[0m\u001b[0;34m[\u001b[0m\u001b[0mcat\u001b[0m\u001b[0;34m]\u001b[0m\u001b[0;34m,\u001b[0m \u001b[0my\u001b[0m\u001b[0;34m=\u001b[0m\u001b[0mtrain\u001b[0m\u001b[0;34m[\u001b[0m\u001b[0mcon\u001b[0m\u001b[0;34m]\u001b[0m\u001b[0;34m,\u001b[0m \u001b[0mdata\u001b[0m\u001b[0;34m=\u001b[0m\u001b[0mtrain\u001b[0m\u001b[0;34m)\u001b[0m\u001b[0;34m\u001b[0m\u001b[0;34m\u001b[0m\u001b[0m\n\u001b[0m",
      "\u001b[0;31mAttributeError\u001b[0m: module 'matplotlib.pyplot' has no attribute 'barplot'"
     ]
    },
    {
     "data": {
      "text/plain": [
       "<Figure size 1440x720 with 0 Axes>"
      ]
     },
     "metadata": {},
     "output_type": "display_data"
    }
   ],
   "source": [
    "for con in continuous:\n",
    "    for cat in categorical:\n",
    "        plt.figure(figsize=(20,10))\n",
    "        plt.barplot(x=train[cat], y=train[con], data=train)"
   ]
  },
  {
   "cell_type": "code",
   "execution_count": null,
   "id": "52346004",
   "metadata": {},
   "outputs": [],
   "source": []
  }
 ],
 "metadata": {
  "kernelspec": {
   "display_name": "Python 3",
   "language": "python",
   "name": "python3"
  },
  "language_info": {
   "codemirror_mode": {
    "name": "ipython",
    "version": 3
   },
   "file_extension": ".py",
   "mimetype": "text/x-python",
   "name": "python",
   "nbconvert_exporter": "python",
   "pygments_lexer": "ipython3",
   "version": "3.8.8"
  }
 },
 "nbformat": 4,
 "nbformat_minor": 5
}
