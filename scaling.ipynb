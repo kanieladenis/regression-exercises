{
 "cells": [
  {
   "cell_type": "markdown",
   "id": "b8f84433",
   "metadata": {},
   "source": [
    "# Scaling Exercises"
   ]
  },
  {
   "cell_type": "code",
   "execution_count": 1,
   "id": "c38e9548",
   "metadata": {},
   "outputs": [],
   "source": [
    "import matplotlib.pyplot as plt\n",
    "import sklearn.preprocessing\n",
    "from sklearn.model_selection import train_test_split\n",
    "import numpy as np\n",
    "import pandas as pd\n",
    "import pydataset\n",
    "import seaborn as sns\n",
    "\n",
    "import warnings\n",
    "warnings.filterwarnings(\"ignore\")"
   ]
  },
  {
   "cell_type": "markdown",
   "id": "e9bcda22",
   "metadata": {},
   "source": [
    "## 1) Apply the scalers we talked about in this lesson to your data and visualize the results for the unscaled and scaled distribution ."
   ]
  },
  {
   "cell_type": "code",
   "execution_count": null,
   "id": "ecbcccdd",
   "metadata": {},
   "outputs": [],
   "source": [
    "import wrangle"
   ]
  },
  {
   "cell_type": "code",
   "execution_count": null,
   "id": "720780fe",
   "metadata": {},
   "outputs": [],
   "source": [
    "train, validate, test = wrangle.wrangle_zillow()\n",
    "train.shape, validate.shape, test.shape"
   ]
  },
  {
   "cell_type": "code",
   "execution_count": null,
   "id": "9a70e128",
   "metadata": {},
   "outputs": [],
   "source": [
    "train.describe().apply(lambda s: s.apply(lambda x: format(x, 'g')))"
   ]
  },
  {
   "cell_type": "code",
   "execution_count": null,
   "id": "7237db79",
   "metadata": {},
   "outputs": [],
   "source": [
    "train[['tax_value','tax_amount']]"
   ]
  },
  {
   "cell_type": "code",
   "execution_count": null,
   "id": "b03f5bd5",
   "metadata": {},
   "outputs": [],
   "source": [
    "train.tax_amount"
   ]
  },
  {
   "cell_type": "markdown",
   "id": "d68607e3",
   "metadata": {},
   "source": [
    "### Visualize the originals"
   ]
  },
  {
   "cell_type": "code",
   "execution_count": null,
   "id": "c499442a",
   "metadata": {},
   "outputs": [],
   "source": [
    "# viz tax amount dist\n",
    "train.tax_amount.plot.hist()"
   ]
  },
  {
   "cell_type": "code",
   "execution_count": null,
   "id": "cead16df",
   "metadata": {},
   "outputs": [],
   "source": [
    "# viz tax value dist\n",
    "train.tax_value.plot.hist()"
   ]
  },
  {
   "cell_type": "code",
   "execution_count": null,
   "id": "9040ec96",
   "metadata": {},
   "outputs": [],
   "source": [
    "# viz together\n",
    "train.tax_amount.plot.hist()\n",
    "train.tax_value.plot.hist()"
   ]
  },
  {
   "cell_type": "code",
   "execution_count": null,
   "id": "bb23bddc",
   "metadata": {},
   "outputs": [],
   "source": [
    "# scale tax amount and tax value\n",
    "# 1. create the object\n",
    "scaler_norm = sklearn.preprocessing.MinMaxScaler()\n",
    "\n",
    "# 2. fit the object (learn the min and max value)\n",
    "scaler_norm.fit(train[['tax_value', 'tax_amount']])\n",
    "\n",
    "# 3. use the object (use the min, max to do the transformation)\n",
    "scaled_tax = scaler_norm.transform(train[['tax_value', 'tax_amount']])\n",
    "scaled_tax[:10]"
   ]
  },
  {
   "cell_type": "code",
   "execution_count": null,
   "id": "c1f28565",
   "metadata": {},
   "outputs": [],
   "source": [
    "pd.DataFrame(scaled_tax, index=train.index, columns=['scaled_tax_value','scaled_tax_amount'])"
   ]
  },
  {
   "cell_type": "code",
   "execution_count": null,
   "id": "65a9d7d9",
   "metadata": {},
   "outputs": [],
   "source": [
    "train[['scaled_tax_value','scaled_tax_amount']] = scaled_tax\n",
    "train.head()"
   ]
  },
  {
   "cell_type": "code",
   "execution_count": null,
   "id": "a3eac80f",
   "metadata": {},
   "outputs": [],
   "source": [
    "train.bedrooms.value_counts()"
   ]
  },
  {
   "cell_type": "code",
   "execution_count": null,
   "id": "259aca04",
   "metadata": {},
   "outputs": [],
   "source": [
    "train.scaled_tax_value.plot.hist()"
   ]
  },
  {
   "cell_type": "code",
   "execution_count": null,
   "id": "f36d9b66",
   "metadata": {},
   "outputs": [],
   "source": [
    "train.scaled_tax_amount.plot.hist()"
   ]
  },
  {
   "cell_type": "code",
   "execution_count": null,
   "id": "85973c89",
   "metadata": {},
   "outputs": [],
   "source": [
    "train.scaled_tax_value.plot.hist(), train.scaled_tax_amount.plot.hist()"
   ]
  },
  {
   "cell_type": "markdown",
   "id": "1f59c486",
   "metadata": {},
   "source": [
    "## 2) Apply the .inverse_transform method to your scaled data. Is the resulting dataset the exact same as the original data?\n",
    "\n"
   ]
  },
  {
   "cell_type": "code",
   "execution_count": null,
   "id": "f696e9b1",
   "metadata": {},
   "outputs": [],
   "source": [
    "orig_tax = scaler_norm.inverse_transform(scaled_tax)\n",
    "orig_tax"
   ]
  },
  {
   "cell_type": "code",
   "execution_count": null,
   "id": "674a905f",
   "metadata": {},
   "outputs": [],
   "source": [
    "inverse_tax = pd.DataFrame(orig_tax, index=train.index, columns=['tax_value','tax_amount'])\n",
    "inverse_tax"
   ]
  },
  {
   "cell_type": "code",
   "execution_count": null,
   "id": "bb661653",
   "metadata": {},
   "outputs": [],
   "source": [
    "inverse_tax.tax_value.plot.hist()\n",
    "inverse_tax.tax_amount.plot.hist()"
   ]
  },
  {
   "cell_type": "markdown",
   "id": "00aa0d93",
   "metadata": {},
   "source": [
    "## 3) Read the documentation for sklearn's QuantileTransformer. Use normal for the output_distribution and apply this scaler to your data. Visualize the result of your data scaling."
   ]
  },
  {
   "cell_type": "code",
   "execution_count": null,
   "id": "5e20a268",
   "metadata": {},
   "outputs": [],
   "source": [
    "\n",
    "qt = sklearn.preprocessing.QuantileTransformer(output_distribution='normal', random_state=123)\n",
    "tax_qt = qt.fit_transform(train[['tax_amount','tax_value']])\n",
    "tax_qt"
   ]
  },
  {
   "cell_type": "code",
   "execution_count": null,
   "id": "107c183a",
   "metadata": {},
   "outputs": [],
   "source": [
    "tax_qt = pd.DataFrame(tax_qt, index=train.index, columns=['tax_amount','tax_value'])\n",
    "tax_qt"
   ]
  },
  {
   "cell_type": "code",
   "execution_count": null,
   "id": "5229062f",
   "metadata": {},
   "outputs": [],
   "source": [
    "tax_qt.tax_amount.plot.hist()\n",
    "tax_qt.tax_value.plot.hist()"
   ]
  },
  {
   "cell_type": "markdown",
   "id": "00f6fc06",
   "metadata": {},
   "source": [
    "## 4)Use the QuantileTransformer, but omit the output_distribution argument. Visualize your results. What do you notice"
   ]
  },
  {
   "cell_type": "code",
   "execution_count": null,
   "id": "ff75c88f",
   "metadata": {},
   "outputs": [],
   "source": [
    "qt = sklearn.preprocessing.QuantileTransformer(random_state=123)\n",
    "tax_qt = qt.fit_transform(train[['tax_amount','tax_value']])\n",
    "tax_qt = pd.DataFrame(tax_qt, index=train.index, columns=['tax_amount','tax_value'])\n",
    "tax_qt.tax_amount.plot.hist()\n",
    "tax_qt.tax_value.plot.hist()"
   ]
  },
  {
   "cell_type": "markdown",
   "id": "a33aab63",
   "metadata": {},
   "source": [
    "## 5) Based on the work you've done, choose a scaling method for your dataset. Write a function within your prepare.py that accepts as input the train, validate, and test data splits, and returns the scaled versions of each. Be sure to only learn the parameters for scaling from your training data!"
   ]
  },
  {
   "cell_type": "code",
   "execution_count": null,
   "id": "35e8676c",
   "metadata": {},
   "outputs": [],
   "source": [
    "def scale_zillow(train, validate, test):\n",
    "    '''\n",
    "    '''\n",
    "    # scale tax amount and tax value by min-max scaler\n",
    "    # create the object\n",
    "    scaler_norm = sklearn.preprocessing.MinMaxScaler()\n",
    "\n",
    "    # fit the object (learn the min and max value)\n",
    "    scaler_norm.fit(train[['tax_value', 'tax_amount']])\n",
    "\n",
    "    # use the object (use the min, max to do the transformation)\n",
    "    scaled_tax = scaler_norm.transform(train[['tax_value', 'tax_amount']])\n",
    "    scaled_tax = scaler_norm.transform(validate[['tax_value', 'tax_amount']])\n",
    "    scaled_tax = scaler_norm.transform(test[['tax_value', 'tax_amount']])\n",
    "    \n",
    "    return train, validate, test\n",
    "    \n",
    "    "
   ]
  },
  {
   "cell_type": "code",
   "execution_count": 2,
   "id": "1b7f50d4",
   "metadata": {},
   "outputs": [],
   "source": [
    "import wrangle"
   ]
  },
  {
   "cell_type": "code",
   "execution_count": 3,
   "id": "9526caf5",
   "metadata": {},
   "outputs": [
    {
     "data": {
      "text/plain": [
       "((1038959, 7), (445269, 7), (371057, 7))"
      ]
     },
     "execution_count": 3,
     "metadata": {},
     "output_type": "execute_result"
    }
   ],
   "source": [
    "train, validate, test = wrangle.wrangle_zillow()\n",
    "train.shape, validate.shape, test.shape"
   ]
  },
  {
   "cell_type": "code",
   "execution_count": 4,
   "id": "e439c9d3",
   "metadata": {},
   "outputs": [
    {
     "data": {
      "image/png": "[encoded data removed]",
      "text/plain": [
       "<Figure size 432x288 with 1 Axes>"
      ]
     },
     "metadata": {
      "needs_background": "light"
     },
     "output_type": "display_data"
    },
    {
     "data": {
      "image/png": "[encoded data removed]",
      "text/plain": [
       "<Figure size 432x288 with 1 Axes>"
      ]
     },
     "metadata": {
      "needs_background": "light"
     },
     "output_type": "display_data"
    },
    {
     "data": {
      "image/png": "[encoded data removed]",
      "text/plain": [
       "<Figure size 432x288 with 1 Axes>"
      ]
     },
     "metadata": {
      "needs_background": "light"
     },
     "output_type": "display_data"
    },
    {
     "data": {
      "image/png": "[encoded data removed]",
      "text/plain": [
       "<Figure size 432x288 with 1 Axes>"
      ]
     },
     "metadata": {
      "needs_background": "light"
     },
     "output_type": "display_data"
    },
    {
     "data": {
      "image/png": "[encoded data removed]",
      "text/plain": [
       "<Figure size 432x288 with 1 Axes>"
      ]
     },
     "metadata": {
      "needs_background": "light"
     },
     "output_type": "display_data"
    },
    {
     "data": {
      "image/png": "[encoded data removed]",
      "text/plain": [
       "<Figure size 432x288 with 1 Axes>"
      ]
     },
     "metadata": {
      "needs_background": "light"
     },
     "output_type": "display_data"
    },
    {
     "data": {
      "image/png": "[encoded data removed]",
      "text/plain": [
       "<Figure size 432x288 with 1 Axes>"
      ]
     },
     "metadata": {
      "needs_background": "light"
     },
     "output_type": "display_data"
    }
   ],
   "source": [
    "for col in train.columns:\n",
    "    train[[col]].plot.hist()"
   ]
  },
  {
   "cell_type": "code",
   "execution_count": 5,
   "id": "5a4d8966",
   "metadata": {},
   "outputs": [
    {
     "data": {
      "text/plain": [
       "<AxesSubplot:ylabel='Frequency'>"
      ]
     },
     "execution_count": 5,
     "metadata": {},
     "output_type": "execute_result"
    },
    {
     "data": {
      "image/png": "[encoded data removed]",
      "text/plain": [
       "<Figure size 432x288 with 1 Axes>"
      ]
     },
     "metadata": {
      "needs_background": "light"
     },
     "output_type": "display_data"
    }
   ],
   "source": [
    "train.tax_amount.plot.hist()\n",
    "train.tax_value.plot.hist()"
   ]
  },
  {
   "cell_type": "code",
   "execution_count": 6,
   "id": "627410bc",
   "metadata": {},
   "outputs": [],
   "source": [
    "import prepare"
   ]
  },
  {
   "cell_type": "code",
   "execution_count": 7,
   "id": "969ccb4d",
   "metadata": {},
   "outputs": [
    {
     "data": {
      "text/plain": [
       "((1038959, 2), (445269, 2), (371057, 2))"
      ]
     },
     "execution_count": 7,
     "metadata": {},
     "output_type": "execute_result"
    }
   ],
   "source": [
    "train, validate, test = prepare.scale_zillow(train, validate, test)\n",
    "train.shape, validate.shape, test.shape"
   ]
  },
  {
   "cell_type": "code",
   "execution_count": 8,
   "id": "50a21273",
   "metadata": {},
   "outputs": [
    {
     "ename": "AttributeError",
     "evalue": "'numpy.ndarray' object has no attribute 'tax_amount'",
     "output_type": "error",
     "traceback": [
      "\u001b[0;31m---------------------------------------------------------------------------\u001b[0m",
      "\u001b[0;31mAttributeError\u001b[0m                            Traceback (most recent call last)",
      "\u001b[0;32m<ipython-input-8-93530cd6957d>\u001b[0m in \u001b[0;36m<module>\u001b[0;34m\u001b[0m\n\u001b[0;32m----> 1\u001b[0;31m \u001b[0mtrain\u001b[0m\u001b[0;34m.\u001b[0m\u001b[0mtax_amount\u001b[0m\u001b[0;34m.\u001b[0m\u001b[0mplot\u001b[0m\u001b[0;34m.\u001b[0m\u001b[0mhist\u001b[0m\u001b[0;34m(\u001b[0m\u001b[0;34m)\u001b[0m\u001b[0;34m\u001b[0m\u001b[0;34m\u001b[0m\u001b[0m\n\u001b[0m\u001b[1;32m      2\u001b[0m \u001b[0mtrain\u001b[0m\u001b[0;34m.\u001b[0m\u001b[0mtax_value\u001b[0m\u001b[0;34m.\u001b[0m\u001b[0mplot\u001b[0m\u001b[0;34m.\u001b[0m\u001b[0mhist\u001b[0m\u001b[0;34m(\u001b[0m\u001b[0;34m)\u001b[0m\u001b[0;34m\u001b[0m\u001b[0;34m\u001b[0m\u001b[0m\n",
      "\u001b[0;31mAttributeError\u001b[0m: 'numpy.ndarray' object has no attribute 'tax_amount'"
     ]
    }
   ],
   "source": [
    "train.tax_amount.plot.hist()\n",
    "train.tax_value.plot.hist()"
   ]
  },
  {
   "cell_type": "code",
   "execution_count": null,
   "id": "4cc3257b",
   "metadata": {},
   "outputs": [],
   "source": []
  }
 ],
 "metadata": {
  "kernelspec": {
   "display_name": "Python 3",
   "language": "python",
   "name": "python3"
  },
  "language_info": {
   "codemirror_mode": {
    "name": "ipython",
    "version": 3
   },
   "file_extension": ".py",
   "mimetype": "text/x-python",
   "name": "python",
   "nbconvert_exporter": "python",
   "pygments_lexer": "ipython3",
   "version": "3.8.8"
  }
 },
 "nbformat": 4,
 "nbformat_minor": 5
}
